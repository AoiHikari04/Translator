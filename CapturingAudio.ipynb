{
 "cells": [
  {
   "cell_type": "code",
   "execution_count": 1,
   "metadata": {},
   "outputs": [],
   "source": [
    "import soundcard as sc \n",
    "import soundfile as sf \n"
   ]
  },
  {
   "cell_type": "code",
   "execution_count": 2,
   "metadata": {},
   "outputs": [],
   "source": [
    "from faster_whisper import WhisperModel"
   ]
  },
  {
   "cell_type": "code",
   "execution_count": 3,
   "metadata": {},
   "outputs": [],
   "source": [
    "output_file_name = \"AudioCaptured.wav\"\n",
    "samplerate = 16000\n",
    "record_sec = 20"
   ]
  },
  {
   "cell_type": "code",
   "execution_count": 8,
   "metadata": {},
   "outputs": [],
   "source": [
    "with sc.get_microphone(id=str(sc.default_speaker().name), include_loopback= True).recorder(samplerate=samplerate) as mic:\n",
    "    data = mic.record(numframes=samplerate*record_sec)\n",
    "\n",
    "    sf.write(file=output_file_name, data=data[:, 0], samplerate=samplerate)"
   ]
  },
  {
   "cell_type": "code",
   "execution_count": 9,
   "metadata": {},
   "outputs": [
    {
     "name": "stdout",
     "output_type": "stream",
     "text": [
      "Detected language 'en' with probability 0.996582\n",
      "[0.00s -> 5.10s]  Condors in the world some of them have actually made their way from California to Zion National Park\n",
      "[5.10s -> 9.20s]  And there's now a small breeding population of California condors there\n",
      "[9.20s -> 15.84s]  So they seem to be moving in the right direction because we took action because we banned DDT because California banned lead shot\n",
      "[15.84s -> 20.16s]  So it's not like we're helpless in these cases. There are things that we can\n"
     ]
    }
   ],
   "source": [
    "model_size = \"small\"\n",
    "\n",
    "# Run on GPU with FP16\n",
    "model = WhisperModel(model_size, device=\"cuda\", compute_type=\"float16\")\n",
    "\n",
    "segments, info = model.transcribe(data[:, 0], beam_size=5)\n",
    "\n",
    "print(\"Detected language '%s' with probability %f\" % (info.language, info.language_probability))\n",
    "\n",
    "for segment in segments:\n",
    "    print(\"[%.2fs -> %.2fs] %s\" % (segment.start, segment.end, segment.text))"
   ]
  }
 ],
 "metadata": {
  "kernelspec": {
   "display_name": "Python 3",
   "language": "python",
   "name": "python3"
  },
  "language_info": {
   "codemirror_mode": {
    "name": "ipython",
    "version": 3
   },
   "file_extension": ".py",
   "mimetype": "text/x-python",
   "name": "python",
   "nbconvert_exporter": "python",
   "pygments_lexer": "ipython3",
   "version": "3.11.9"
  }
 },
 "nbformat": 4,
 "nbformat_minor": 2
}
