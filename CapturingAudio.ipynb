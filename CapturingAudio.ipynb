{
 "cells": [
  {
   "cell_type": "code",
   "execution_count": 3,
   "metadata": {},
   "outputs": [],
   "source": [
    "import soundcard as sc \n",
    "import soundfile as sf \n"
   ]
  },
  {
   "cell_type": "code",
   "execution_count": 4,
   "metadata": {},
   "outputs": [],
   "source": [
    "output_file_name = \"AudioCaptured.wav\"\n",
    "samplerate = 48000\n",
    "record_sec = 5"
   ]
  },
  {
   "cell_type": "code",
   "execution_count": 7,
   "metadata": {},
   "outputs": [],
   "source": [
    "with sc.get_microphone(id=str(sc.default_speaker().name), include_loopback= True).recorder(samplerate=samplerate) as mic:\n",
    "    data = mic.record(numframes=samplerate*record_sec)\n",
    "\n",
    "    sf.write(file=output_file_name, data=data[:, 0], samplerate=samplerate)"
   ]
  }
 ],
 "metadata": {
  "kernelspec": {
   "display_name": "Python 3",
   "language": "python",
   "name": "python3"
  },
  "language_info": {
   "codemirror_mode": {
    "name": "ipython",
    "version": 3
   },
   "file_extension": ".py",
   "mimetype": "text/x-python",
   "name": "python",
   "nbconvert_exporter": "python",
   "pygments_lexer": "ipython3",
   "version": "3.10.9"
  }
 },
 "nbformat": 4,
 "nbformat_minor": 2
}
