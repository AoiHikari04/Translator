{
 "cells": [
  {
   "cell_type": "code",
   "execution_count": null,
   "metadata": {},
   "outputs": [],
   "source": [
    "import numpy as np\n",
    "from faster_whisper import WhisperModel\n",
    "from yt_dlp import YoutubeDL\n",
    "import io"
   ]
  },
  {
   "cell_type": "code",
   "execution_count": 10,
   "metadata": {},
   "outputs": [],
   "source": [
    "# Configuration\n",
    "model_size = \"small\"  # You can choose \"tiny\", \"base\", \"small\", \"medium\", \"large\"\n",
    "youtube_url = \"https://www.youtube.com/watch?v=SKA88JKFVdk\"  # Replace with your livestream URL\n",
    "sample_rate = 16000  # Whisper models expect 16kHz audio\n",
    "chunk_duration = 10  # Duration of each audio chunk in seconds\n",
    "model = WhisperModel(model_size, device=\"cpu\", compute_type=\"int8\")  # Use \"cuda\" for GPU"
   ]
  },
  {
   "cell_type": "code",
   "execution_count": 17,
   "metadata": {},
   "outputs": [],
   "source": [
    "# Function to download and stream audio from YouTube livestream\n",
    "def stream_youtube_audio(url):\n",
    "    ydl_opts = {\n",
    "        'format': 'bestaudio/best',\n",
    "        'extractaudio': True,\n",
    "        'audioformat': 'wav',\n",
    "        'noplaylist': True,\n",
    "        'quiet': True,\n",
    "        'live_from_start': True,  # Ensure live stream is captured from the start\n",
    "    }\n",
    "    with YoutubeDL(ydl_opts) as ydl:\n",
    "        info = ydl.extract_info(url, download=False)\n",
    "        audio_url = info['url']\n",
    "        return audio_url"
   ]
  },
  {
   "cell_type": "code",
   "execution_count": 13,
   "metadata": {},
   "outputs": [],
   "source": [
    "# Function to transcribe audio chunks\n",
    "def transcribe_audio_chunk(audio_chunk):\n",
    "    # Convert audio chunk to numpy array\n",
    "    audio_data = np.frombuffer(audio_chunk.raw_data, dtype=np.int16).astype(np.float32) / 32768.0\n",
    "    \n",
    "    # Transcribe the audio\n",
    "    segments, info = model.transcribe(audio_data, beam_size=5)\n",
    "    \n",
    "    # Print the transcription\n",
    "    for segment in segments:\n",
    "        print(f\"[{segment.start:.2f}s -> {segment.end:.2f}s] {segment.text}\")"
   ]
  },
  {
   "cell_type": "code",
   "execution_count": 14,
   "metadata": {},
   "outputs": [],
   "source": [
    "# Main function\n",
    "def main():\n",
    "    # Get the audio stream URL\n",
    "    audio_stream_url = stream_youtube_audio(youtube_url)\n",
    "    \n",
    "    # Use pydub to stream the audio in chunks\n",
    "    stream = AudioSegment.from_file(audio_stream_url, format=\"wav\")\n",
    "    chunk_length = chunk_duration * 1000  # Convert to milliseconds\n",
    "    \n",
    "    for i in range(0, len(stream), chunk_length):\n",
    "        chunk = stream[i:i + chunk_length]\n",
    "        \n",
    "        # Transcribe the chunk\n",
    "        transcribe_audio_chunk(chunk)\n",
    "        \n",
    "        # Optional: Play the chunk (for debugging)\n",
    "        # play(chunk)"
   ]
  },
  {
   "cell_type": "code",
   "execution_count": 18,
   "metadata": {},
   "outputs": [
    {
     "ename": "FileNotFoundError",
     "evalue": "[Errno 2] No such file or directory: 'https://manifest.googlevideo.com/api/manifest/dash/expire/1739939000/ei/WAi1Z470N97i9fwPwdjauQ0/ip/103.232.219.159/id/SKA88JKFVdk.2/source/yt_live_broadcast/requiressl/yes/xpc/EgVo2aDSNQ%3D%3D/tx/51388542/txs/51388542%2C51388543%2C51388544%2C51388545/hfr/all/as/fmp4_audio_clear%2Cfmp4_sd_hd_clear/defrag/1/spc/RjZbSW6WSu9nhZjplMDu9zgMIHJy8aQoyN98rj3q0CBtyXki24nHtYWbHaxwU0g/vprv/1/rqh/2/pacing/0/keepalive/yes/fexp/51326932/itag/0/playlist_type/LIVE/sparams/expire%2Cei%2Cip%2Cid%2Csource%2Crequiressl%2Cxpc%2Ctx%2Ctxs%2Chfr%2Cas%2Cdefrag%2Cspc%2Cvprv%2Crqh%2Citag%2Cplaylist_type/sig/AJfQdSswRQIgCdSh3wFQXrQ97D_GWeYGuPeIe4m0axhQ0y4JnJq-yGQCIQCvDDF6DutstIsbrjBe1JILN67TQjxDWjnPr7T1_GfSfA%3D%3D'",
     "output_type": "error",
     "traceback": [
      "\u001b[1;31m---------------------------------------------------------------------------\u001b[0m",
      "\u001b[1;31mFileNotFoundError\u001b[0m                         Traceback (most recent call last)",
      "Cell \u001b[1;32mIn[18], line 2\u001b[0m\n\u001b[0;32m      1\u001b[0m \u001b[38;5;28;01mif\u001b[39;00m \u001b[38;5;18m__name__\u001b[39m \u001b[38;5;241m==\u001b[39m \u001b[38;5;124m\"\u001b[39m\u001b[38;5;124m__main__\u001b[39m\u001b[38;5;124m\"\u001b[39m:\n\u001b[1;32m----> 2\u001b[0m     \u001b[43mmain\u001b[49m\u001b[43m(\u001b[49m\u001b[43m)\u001b[49m\n",
      "Cell \u001b[1;32mIn[14], line 7\u001b[0m, in \u001b[0;36mmain\u001b[1;34m()\u001b[0m\n\u001b[0;32m      4\u001b[0m audio_stream_url \u001b[38;5;241m=\u001b[39m stream_youtube_audio(youtube_url)\n\u001b[0;32m      6\u001b[0m \u001b[38;5;66;03m# Use pydub to stream the audio in chunks\u001b[39;00m\n\u001b[1;32m----> 7\u001b[0m stream \u001b[38;5;241m=\u001b[39m \u001b[43mAudioSegment\u001b[49m\u001b[38;5;241;43m.\u001b[39;49m\u001b[43mfrom_file\u001b[49m\u001b[43m(\u001b[49m\u001b[43maudio_stream_url\u001b[49m\u001b[43m,\u001b[49m\u001b[43m \u001b[49m\u001b[38;5;28;43mformat\u001b[39;49m\u001b[38;5;241;43m=\u001b[39;49m\u001b[38;5;124;43m\"\u001b[39;49m\u001b[38;5;124;43mwav\u001b[39;49m\u001b[38;5;124;43m\"\u001b[39;49m\u001b[43m)\u001b[49m\n\u001b[0;32m      8\u001b[0m chunk_length \u001b[38;5;241m=\u001b[39m chunk_duration \u001b[38;5;241m*\u001b[39m \u001b[38;5;241m1000\u001b[39m  \u001b[38;5;66;03m# Convert to milliseconds\u001b[39;00m\n\u001b[0;32m     10\u001b[0m \u001b[38;5;28;01mfor\u001b[39;00m i \u001b[38;5;129;01min\u001b[39;00m \u001b[38;5;28mrange\u001b[39m(\u001b[38;5;241m0\u001b[39m, \u001b[38;5;28mlen\u001b[39m(stream), chunk_length):\n",
      "File \u001b[1;32mc:\\Users\\MSI\\AppData\\Local\\Programs\\Python\\Python310\\lib\\site-packages\\pydub\\audio_segment.py:651\u001b[0m, in \u001b[0;36mAudioSegment.from_file\u001b[1;34m(cls, file, format, codec, parameters, start_second, duration, **kwargs)\u001b[0m\n\u001b[0;32m    649\u001b[0m \u001b[38;5;28;01mexcept\u001b[39;00m \u001b[38;5;167;01mTypeError\u001b[39;00m:\n\u001b[0;32m    650\u001b[0m     filename \u001b[38;5;241m=\u001b[39m \u001b[38;5;28;01mNone\u001b[39;00m\n\u001b[1;32m--> 651\u001b[0m file, close_file \u001b[38;5;241m=\u001b[39m \u001b[43m_fd_or_path_or_tempfile\u001b[49m\u001b[43m(\u001b[49m\u001b[43mfile\u001b[49m\u001b[43m,\u001b[49m\u001b[43m \u001b[49m\u001b[38;5;124;43m'\u001b[39;49m\u001b[38;5;124;43mrb\u001b[39;49m\u001b[38;5;124;43m'\u001b[39;49m\u001b[43m,\u001b[49m\u001b[43m \u001b[49m\u001b[43mtempfile\u001b[49m\u001b[38;5;241;43m=\u001b[39;49m\u001b[38;5;28;43;01mFalse\u001b[39;49;00m\u001b[43m)\u001b[49m\n\u001b[0;32m    653\u001b[0m \u001b[38;5;28;01mif\u001b[39;00m \u001b[38;5;28mformat\u001b[39m:\n\u001b[0;32m    654\u001b[0m     \u001b[38;5;28mformat\u001b[39m \u001b[38;5;241m=\u001b[39m \u001b[38;5;28mformat\u001b[39m\u001b[38;5;241m.\u001b[39mlower()\n",
      "File \u001b[1;32mc:\\Users\\MSI\\AppData\\Local\\Programs\\Python\\Python310\\lib\\site-packages\\pydub\\utils.py:60\u001b[0m, in \u001b[0;36m_fd_or_path_or_tempfile\u001b[1;34m(fd, mode, tempfile)\u001b[0m\n\u001b[0;32m     57\u001b[0m     close_fd \u001b[38;5;241m=\u001b[39m \u001b[38;5;28;01mTrue\u001b[39;00m\n\u001b[0;32m     59\u001b[0m \u001b[38;5;28;01mif\u001b[39;00m \u001b[38;5;28misinstance\u001b[39m(fd, basestring):\n\u001b[1;32m---> 60\u001b[0m     fd \u001b[38;5;241m=\u001b[39m \u001b[38;5;28;43mopen\u001b[39;49m\u001b[43m(\u001b[49m\u001b[43mfd\u001b[49m\u001b[43m,\u001b[49m\u001b[43m \u001b[49m\u001b[43mmode\u001b[49m\u001b[38;5;241;43m=\u001b[39;49m\u001b[43mmode\u001b[49m\u001b[43m)\u001b[49m\n\u001b[0;32m     61\u001b[0m     close_fd \u001b[38;5;241m=\u001b[39m \u001b[38;5;28;01mTrue\u001b[39;00m\n\u001b[0;32m     63\u001b[0m \u001b[38;5;28;01mtry\u001b[39;00m:\n",
      "\u001b[1;31mFileNotFoundError\u001b[0m: [Errno 2] No such file or directory: 'https://manifest.googlevideo.com/api/manifest/dash/expire/1739939000/ei/WAi1Z470N97i9fwPwdjauQ0/ip/103.232.219.159/id/SKA88JKFVdk.2/source/yt_live_broadcast/requiressl/yes/xpc/EgVo2aDSNQ%3D%3D/tx/51388542/txs/51388542%2C51388543%2C51388544%2C51388545/hfr/all/as/fmp4_audio_clear%2Cfmp4_sd_hd_clear/defrag/1/spc/RjZbSW6WSu9nhZjplMDu9zgMIHJy8aQoyN98rj3q0CBtyXki24nHtYWbHaxwU0g/vprv/1/rqh/2/pacing/0/keepalive/yes/fexp/51326932/itag/0/playlist_type/LIVE/sparams/expire%2Cei%2Cip%2Cid%2Csource%2Crequiressl%2Cxpc%2Ctx%2Ctxs%2Chfr%2Cas%2Cdefrag%2Cspc%2Cvprv%2Crqh%2Citag%2Cplaylist_type/sig/AJfQdSswRQIgCdSh3wFQXrQ97D_GWeYGuPeIe4m0axhQ0y4JnJq-yGQCIQCvDDF6DutstIsbrjBe1JILN67TQjxDWjnPr7T1_GfSfA%3D%3D'"
     ]
    }
   ],
   "source": [
    "if __name__ == \"__main__\":\n",
    "    main()"
   ]
  }
 ],
 "metadata": {
  "kernelspec": {
   "display_name": "Python 3",
   "language": "python",
   "name": "python3"
  },
  "language_info": {
   "codemirror_mode": {
    "name": "ipython",
    "version": 3
   },
   "file_extension": ".py",
   "mimetype": "text/x-python",
   "name": "python",
   "nbconvert_exporter": "python",
   "pygments_lexer": "ipython3",
   "version": "3.10.9"
  }
 },
 "nbformat": 4,
 "nbformat_minor": 2
}
